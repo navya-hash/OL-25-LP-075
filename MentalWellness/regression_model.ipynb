{
 "cells": [
  {
   "cell_type": "code",
   "execution_count": 4,
   "id": "7e4a0d71",
   "metadata": {},
   "outputs": [],
   "source": [
    "import numpy as np\n",
    "import pandas as pd\n",
    "import matplotlib.pyplot as plt\n",
    "import seaborn as sns\n",
    "import joblib\n",
    "from sklearn.model_selection import train_test_split,GridSearchCV\n",
    "from sklearn.preprocessing import StandardScaler,OneHotEncoder\n",
    "from sklearn.compose import ColumnTransformer\n",
    "from sklearn.pipeline import Pipeline\n",
    "from sklearn.metrics import mean_absolute_error,root_mean_squared_error,r2_score\n",
    "from sklearn.linear_model import LinearRegression\n",
    "from sklearn.tree import DecisionTreeRegressor\n",
    "from sklearn.ensemble import RandomForestRegressor\n",
    "from xgboost import XGBRegressor\n",
    "from sklearn.preprocessing import RobustScaler\n",
    "from sklearn.ensemble import RandomForestClassifier\n",
    "from sklearn.metrics import accuracy_score,classification_report,f1_score\n"
   ]
  },
  {
   "cell_type": "code",
   "execution_count": 5,
   "id": "36f570b2",
   "metadata": {},
   "outputs": [
    {
     "name": "stdout",
     "output_type": "stream",
     "text": [
      "<class 'pandas.core.frame.DataFrame'>\n",
      "Index: 1181 entries, 0 to 1258\n",
      "Data columns (total 27 columns):\n",
      " #   Column                     Non-Null Count  Dtype \n",
      "---  ------                     --------------  ----- \n",
      " 0   Timestamp                  1181 non-null   object\n",
      " 1   Age                        1181 non-null   int64 \n",
      " 2   Gender                     1181 non-null   object\n",
      " 3   Country                    1181 non-null   object\n",
      " 4   state                      1181 non-null   object\n",
      " 5   self_employed              1181 non-null   object\n",
      " 6   family_history             1181 non-null   object\n",
      " 7   treatment                  1181 non-null   object\n",
      " 8   work_interfere             1181 non-null   object\n",
      " 9   no_employees               1181 non-null   int64 \n",
      " 10  remote_work                1181 non-null   object\n",
      " 11  tech_company               1181 non-null   object\n",
      " 12  benefits                   1181 non-null   object\n",
      " 13  care_options               1181 non-null   object\n",
      " 14  wellness_program           1181 non-null   object\n",
      " 15  seek_help                  1181 non-null   object\n",
      " 16  anonymity                  1181 non-null   object\n",
      " 17  leave                      1181 non-null   object\n",
      " 18  mental_health_consequence  1181 non-null   object\n",
      " 19  phys_health_consequence    1181 non-null   object\n",
      " 20  coworkers                  1181 non-null   object\n",
      " 21  supervisor                 1181 non-null   object\n",
      " 22  mental_health_interview    1181 non-null   object\n",
      " 23  phys_health_interview      1181 non-null   object\n",
      " 24  mental_vs_physical         1181 non-null   object\n",
      " 25  obs_consequence            1181 non-null   object\n",
      " 26  comments                   1181 non-null   object\n",
      "dtypes: int64(2), object(25)\n",
      "memory usage: 258.3+ KB\n"
     ]
    }
   ],
   "source": [
    "#Importing cleaned dataset\n",
    "df=joblib.load('df_clean.joblib')\n",
    "df.info()\n",
    "df.shape\n",
    "\n",
    "X=df.drop('Age',axis=1)\n",
    "Y=df['Age']\n",
    "X_train,X_test,Y_train,Y_test=train_test_split(X,Y,test_size=0.2,random_state=42)\n",
    "\n"
   ]
  },
  {
   "cell_type": "markdown",
   "id": "5746ea29",
   "metadata": {},
   "source": [
    "Model-1(Linear Regression)"
   ]
  },
  {
   "cell_type": "code",
   "execution_count": 6,
   "id": "3a3166a6",
   "metadata": {},
   "outputs": [],
   "source": [
    "from sklearn.model_selection import train_test_split\n",
    "X_train,X_test,Y_train,Y_test=train_test_split(X,Y,test_size=0.2,random_state=42)   "
   ]
  },
  {
   "cell_type": "code",
   "execution_count": 7,
   "id": "4db700a2",
   "metadata": {},
   "outputs": [
    {
     "name": "stdout",
     "output_type": "stream",
     "text": [
      "MAE: 4.957805907172996\n",
      "RMSE: 6.211803111037516\n",
      "R2 Score -0.03646033086543965\n"
     ]
    }
   ],
   "source": [
    "\n",
    "#Building pipeline\n",
    "def create_prepipe(X):\n",
    "    num_cols=X.select_dtypes(include='number').columns.tolist()\n",
    "    cat_cols=X.select_dtypes(include='object').columns.tolist()\n",
    "    num_pipe = Pipeline([\n",
    "        ('scaler', StandardScaler())\n",
    "    ])\n",
    "    \n",
    "    cat_pipe = Pipeline([\n",
    "        ('encode', OneHotEncoder(handle_unknown='ignore', sparse_output=False))\n",
    "    ])\n",
    "    \n",
    "    preprocessor = ColumnTransformer([\n",
    "        ('num', num_pipe, num_cols),\n",
    "        ('cat', cat_pipe, cat_cols)\n",
    "    ])\n",
    "    return preprocessor\n",
    "\n",
    "\n",
    "pipe=Pipeline([\n",
    "     ('preprocessor',create_prepipe(X_train)),\n",
    "    ('model',LinearRegression())\n",
    "]\n",
    ")\n",
    "pipe.fit(X_train,Y_train)\n",
    "Y_pred=pipe.predict(X_test)\n",
    "Y_pred=np.round(Y_pred)\n",
    "Y_pred\n",
    "print(\"MAE:\",mean_absolute_error(Y_test,Y_pred))\n",
    "print(\"RMSE:\",root_mean_squared_error(Y_test,Y_pred))\n",
    "print(\"R2 Score\", r2_score(Y_test,Y_pred))"
   ]
  },
  {
   "cell_type": "code",
   "execution_count": 8,
   "id": "83af5866",
   "metadata": {},
   "outputs": [
    {
     "name": "stdout",
     "output_type": "stream",
     "text": [
      "best parameters: {'model__max_depth': 3, 'model__min_samples_leaf': 3, 'model__min_samples_split': 2}\n",
      "MAE: 4.8354430379746836\n",
      "RMSE: 6.017555189953393\n",
      "R2 Score 0.027347997869086593\n"
     ]
    }
   ],
   "source": [
    "#Decision Tree Regressor\n",
    "def create_prepipe(X):\n",
    "    num_cols=X.select_dtypes(include='number').columns.tolist()\n",
    "    cat_cols=X.select_dtypes(include='object').columns.tolist()\n",
    "    # num_pipe = Pipeline([\n",
    "    #     ('scaler', StandardScaler())\n",
    "    # ])\n",
    "    \n",
    "    cat_pipe = Pipeline([\n",
    "        ('encode', OneHotEncoder(handle_unknown='ignore', sparse_output=False))\n",
    "    ])\n",
    "    \n",
    "    preprocessor = ColumnTransformer([\n",
    "        # ('num', num_pipe, num_cols),\n",
    "        ('cat', cat_pipe, cat_cols)\n",
    "    ])\n",
    "    return preprocessor\n",
    "\n",
    "\n",
    "pipe2=Pipeline([\n",
    "     ('preprocessor',create_prepipe(X_train)),\n",
    "    ('model',DecisionTreeRegressor())\n",
    "]\n",
    ")\n",
    "\n",
    "param_grid={\n",
    "    \n",
    "    'model__max_depth':[3,5,7],\n",
    "    'model__min_samples_split':[2,5,7],\n",
    "    'model__min_samples_leaf':[2,3]\n",
    "\n",
    "}\n",
    "gscv2=GridSearchCV(pipe2,param_grid,cv=5)\n",
    "gscv2.fit(X_train,Y_train)\n",
    "Y_pred2=gscv2.predict(X_test)\n",
    "Y_pred2=np.round(Y_pred2)\n",
    "Y_pred2\n",
    "print(\"best parameters:\",gscv2.best_params_)\n",
    "print(\"MAE:\",mean_absolute_error(Y_test,Y_pred2))\n",
    "print(\"RMSE:\",root_mean_squared_error(Y_test,Y_pred2))\n",
    "print(\"R2 Score\", r2_score(Y_test,Y_pred2))\n",
    "\n"
   ]
  },
  {
   "cell_type": "markdown",
   "id": "780a8512",
   "metadata": {},
   "source": [
    "Model-3(Random Forest Regressor)"
   ]
  },
  {
   "cell_type": "code",
   "execution_count": 9,
   "id": "eeac7fc9",
   "metadata": {},
   "outputs": [
    {
     "name": "stdout",
     "output_type": "stream",
     "text": [
      "best parameters: {'model__max_depth': 5, 'model__min_samples_leaf': 3, 'model__min_samples_split': 2, 'model__n_estimators': 100}\n",
      "MAE: 4.729957805907173\n",
      "RMSE: 5.940989702885289\n",
      "R2 Score 0.051941971821825805\n"
     ]
    }
   ],
   "source": [
    "def create_prepipe(X):\n",
    "    # num_cols=X.select_dtypes(include='number').columns.tolist()\n",
    "    cat_cols=X.select_dtypes(include='object').columns.tolist()\n",
    "    # num_pipe = Pipeline([\n",
    "    #     ('scaler', StandardScaler())\n",
    "    # ])\n",
    "    \n",
    "    cat_pipe = Pipeline([\n",
    "        ('encode', OneHotEncoder(handle_unknown='ignore', sparse_output=False))\n",
    "    ])\n",
    "    \n",
    "    preprocessor = ColumnTransformer([\n",
    "        # ('num', num_pipe, num_cols),\n",
    "        ('cat', cat_pipe, cat_cols)\n",
    "    ])\n",
    "    return preprocessor\n",
    "\n",
    "pipe3=Pipeline([\n",
    "     ('preprocessor',create_prepipe(X_train)),\n",
    "    ('model',RandomForestRegressor())\n",
    "]\n",
    ")\n",
    "\n",
    "param_grid3={\n",
    "    'model__n_estimators':[100,200],\n",
    "    'model__max_depth':[3,5],\n",
    "    'model__min_samples_split':[2,5],\n",
    "    'model__min_samples_leaf':[2,3]\n",
    "\n",
    "}\n",
    "gscv3=GridSearchCV(pipe3,param_grid3,cv=5)\n",
    "gscv3.fit(X_train,Y_train)\n",
    "Y_pred3=gscv3.predict(X_test)\n",
    "Y_pred3=np.round(Y_pred3)\n",
    "Y_pred3\n",
    "print(\"best parameters:\",gscv3.best_params_)\n",
    "print(\"MAE:\",mean_absolute_error(Y_test,Y_pred3))\n",
    "print(\"RMSE:\",root_mean_squared_error(Y_test,Y_pred3))\n",
    "print(\"R2 Score\", r2_score(Y_test,Y_pred3))"
   ]
  },
  {
   "cell_type": "markdown",
   "id": "639b8042",
   "metadata": {},
   "source": [
    "Model 4(XGBRegressor)"
   ]
  },
  {
   "cell_type": "code",
   "execution_count": 10,
   "id": "9513c17f",
   "metadata": {},
   "outputs": [
    {
     "name": "stdout",
     "output_type": "stream",
     "text": [
      "best parameters: {'model__colsample_bytree': 0.8, 'model__learning_rate': 0.01, 'model__max_depth': 5, 'model__n_estimators': 200, 'model__subsample': 0.8}\n",
      "MAE: 4.708860874176025\n",
      "RMSE: 5.878516674041748\n",
      "R2 Score 0.07177597284317017\n"
     ]
    }
   ],
   "source": [
    "pipe4=Pipeline([\n",
    "     ('preprocessor',create_prepipe(X_train)),\n",
    "    ('model',XGBRegressor())\n",
    "]\n",
    ")\n",
    "\n",
    "param_grid4={\n",
    "    'model__n_estimators':[100,200],\n",
    "    'model__max_depth':[3,5,7],\n",
    "    'model__subsample':[0.8,1.0],\n",
    "    'model__learning_rate':[0.01,0.1,1],\n",
    "    'model__colsample_bytree':[0.8,1.0]\n",
    "}\n",
    "    \n",
    "\n",
    "gscv4=GridSearchCV(pipe4,param_grid4,cv=5)\n",
    "gscv4.fit(X_train,Y_train)\n",
    "Y_pred4=gscv4.predict(X_test)\n",
    "Y_pred4=np.round(Y_pred4)\n",
    "Y_pred4\n",
    "print(\"best parameters:\",gscv4.best_params_)\n",
    "print(\"MAE:\",mean_absolute_error(Y_test,Y_pred4))\n",
    "print(\"RMSE:\",root_mean_squared_error(Y_test,Y_pred4))\n",
    "print(\"R2 Score\", r2_score(Y_test,Y_pred4))\n"
   ]
  },
  {
   "cell_type": "code",
   "execution_count": 16,
   "id": "31245558",
   "metadata": {},
   "outputs": [
    {
     "data": {
      "text/plain": [
       "['regression_model.joblib']"
      ]
     },
     "execution_count": 16,
     "metadata": {},
     "output_type": "execute_result"
    }
   ],
   "source": [
    "joblib.dump(gscv4,\"regression_model.joblib\")"
   ]
  },
  {
   "cell_type": "markdown",
   "id": "196ba563",
   "metadata": {},
   "source": [
    "Improving Regression results(MAE and RMSE)"
   ]
  },
  {
   "cell_type": "code",
   "execution_count": 12,
   "id": "851bab0c",
   "metadata": {},
   "outputs": [
    {
     "data": {
      "image/png": "[encoded data removed]",
      "text/plain": [
       "<Figure size 640x480 with 1 Axes>"
      ]
     },
     "metadata": {},
     "output_type": "display_data"
    }
   ],
   "source": [
    "sns.histplot(data=df,x='Age',kde=True)\n",
    "plt.show()"
   ]
  },
  {
   "cell_type": "markdown",
   "id": "943b5c88",
   "metadata": {},
   "source": [
    "Above graph shows age is right skewed so we apply LOG TRANSFORMATION to age column so that distribution becomes normal and outliers with large values also get compressed to smaller values"
   ]
  },
  {
   "cell_type": "code",
   "execution_count": 13,
   "id": "c091b3b5",
   "metadata": {},
   "outputs": [
    {
     "name": "stdout",
     "output_type": "stream",
     "text": [
      "best parameters: {'model__colsample_bytree': 0.8, 'model__learning_rate': 0.01, 'model__max_depth': 5, 'model__n_estimators': 200, 'model__subsample': 0.8}\n",
      "MAE: 4.744976997375488\n",
      "RMSE: 5.944920539855957\n",
      "R2 Score 0.05068707466125488\n"
     ]
    }
   ],
   "source": [
    "Y_train_log=np.log1p(Y_train)\n",
    "Y_test_log=np.log1p(Y_test)\n",
    "pipe_log=Pipeline([\n",
    "     ('preprocessor',create_prepipe(X_train)),\n",
    "    ('model',XGBRegressor())\n",
    "]\n",
    ")\n",
    "param_grid_log={\n",
    "    'model__n_estimators':[100,200],\n",
    "    'model__max_depth':[3,5,7],\n",
    "    'model__subsample':[0.8,1.0],\n",
    "    'model__learning_rate':[0.01,0.1,1],\n",
    "    'model__colsample_bytree':[0.8,1.0]\n",
    "}\n",
    "   \n",
    "gscv_log=GridSearchCV(pipe_log,param_grid_log,cv=5)\n",
    "gscv_log.fit(X_train,Y_train_log)\n",
    "Y_pred_log=gscv_log.predict(X_test)\n",
    "Y_pred_=np.expm1(Y_pred_log)\n",
    "\n",
    "print(\"best parameters:\",gscv_log.best_params_)\n",
    "print(\"MAE:\",mean_absolute_error(Y_test,Y_pred_))\n",
    "print(\"RMSE:\",root_mean_squared_error(Y_test,Y_pred_))\n",
    "print(\"R2 Score\", r2_score(Y_test,Y_pred_))\n",
    "\n"
   ]
  },
  {
   "cell_type": "markdown",
   "id": "b30ae06d",
   "metadata": {},
   "source": [
    "Now, let's also try to improve regression results by Robust scaler"
   ]
  },
  {
   "cell_type": "code",
   "execution_count": 14,
   "id": "fd5cd134",
   "metadata": {},
   "outputs": [
    {
     "name": "stdout",
     "output_type": "stream",
     "text": [
      "best parameters: {'model__colsample_bytree': 0.8, 'model__learning_rate': 0.01, 'model__max_depth': 5, 'model__n_estimators': 200, 'model__subsample': 0.8}\n",
      "MAE: 4.703150749206543\n",
      "RMSE: 5.867020606994629\n",
      "R2 Score 0.07540297508239746\n"
     ]
    }
   ],
   "source": [
    "from sklearn.preprocessing import RobustScaler\n",
    "rs=RobustScaler()\n",
    "Y_train_scale = rs.fit_transform(Y_train.values.reshape(-1, 1))\n",
    "pipe4=Pipeline([\n",
    "     ('preprocessor',create_prepipe(X_train)),\n",
    "    ('model',XGBRegressor())\n",
    "]\n",
    ")\n",
    "\n",
    "param_grid4={\n",
    "    'model__n_estimators':[100,200],\n",
    "    'model__max_depth':[3,5,7],\n",
    "    'model__subsample':[0.8,1.0],\n",
    "    'model__learning_rate':[0.01,0.1,1],\n",
    "    'model__colsample_bytree':[0.8,1.0]\n",
    "}\n",
    "    \n",
    "gscv4=GridSearchCV(pipe4,param_grid4,cv=5)\n",
    "gscv4.fit(X_train,Y_train_scale)\n",
    "Y_pred4=gscv4.predict(X_test)\n",
    "Y_pred4=rs.inverse_transform(Y_pred4.reshape(-1,1)).ravel()\n",
    "\n",
    "print(\"best parameters:\",gscv4.best_params_)\n",
    "print(\"MAE:\",mean_absolute_error(Y_test,Y_pred4))\n",
    "print(\"RMSE:\",root_mean_squared_error(Y_test,Y_pred4))\n",
    "print(\"R2 Score\", r2_score(Y_test,Y_pred4))\n"
   ]
  },
  {
   "cell_type": "markdown",
   "id": "f61d451c",
   "metadata": {},
   "source": [
    "Binning"
   ]
  },
  {
   "cell_type": "code",
   "execution_count": 15,
   "id": "b9ff605d",
   "metadata": {},
   "outputs": [],
   "source": [
    "# from sklearn.preprocessing import KBinsDiscretizer\n",
    "# kbin=KBinsDiscretizer(n_bins=10,encode='ordinal',strategy='uniform')\n",
    "# Y_train=Y_train.reshape(-1,1)\n",
    "# Y_test=Y_test.reshape(-1,1)\n",
    "# kbin.fit(Y_train)\n",
    "\n",
    "# # Transform both sets\n",
    "# Y_train_binned = kbin.transform(Y_train)\n",
    "# Y_test_binned = kbin.transform(Y_test)\n",
    "\n",
    "# def create_prepipe(X):\n",
    "#     # num_cols=X.select_dtypes(include='number').columns.tolist()\n",
    "#     cat_cols=X.select_dtypes(include='object').columns.tolist()\n",
    "#     # num_pipe = Pipeline([\n",
    "#     #     ('scaler', StandardScaler())\n",
    "#     # ])\n",
    "    \n",
    "#     cat_pipe = Pipeline([\n",
    "#         ('encode', OneHotEncoder(handle_unknown='ignore', sparse_output=False))\n",
    "#     ])\n",
    "    \n",
    "#     preprocessor = ColumnTransformer([\n",
    "#         # ('num', num_pipe, num_cols),\n",
    "#         ('cat', cat_pipe, cat_cols)\n",
    "#     ])\n",
    "#     return preprocessor\n",
    "\n",
    "# pipe3=Pipeline([\n",
    "#      ('preprocessor',create_prepipe(X_train)),\n",
    "#     ('model',RandomForestClassifier())\n",
    "# ]\n",
    "# )\n",
    "\n",
    "# param_grid3={\n",
    "#     'model__n_estimators':[100,200],\n",
    "#     'model__max_depth':[3,5],\n",
    "#     'model__min_samples_split':[2,5],\n",
    "#     'model__min_samples_leaf':[2,3]\n",
    "\n",
    "# }\n",
    "# gscv3=GridSearchCV(pipe3,param_grid3,cv=5)\n",
    "# gscv3.fit(X_train,Y_train_binned.ravel())\n",
    "# Y_pred3=gscv3.predict(X_test)\n",
    "# age_ranges = kbin.inverse_transform(Y_pred3.reshape(-1, 1))\n",
    "# print(Y_pred3)\n",
    "# age_ranges = kbin.inverse_transform(Y_pred3.reshape(-1, 1))\n",
    "# print(age_ranges)\n",
    "\n",
    "# print(\"best parameters:\",gscv3.best_params_)\n",
    "# # print(\"MAE:\",classification_report(Y_test,Y_pred3))\n",
    "# # print(\"RMSE:\",f1_score(Y_test,Y_pred3))\n",
    "# print(\"R2 Score\", accuracy_score(Y_test,Y_pred3))\n",
    "\n",
    "\n",
    "\n",
    "\n",
    "\n"
   ]
  }
 ],
 "metadata": {
  "kernelspec": {
   "display_name": "Python 3",
   "language": "python",
   "name": "python3"
  },
  "language_info": {
   "codemirror_mode": {
    "name": "ipython",
    "version": 3
   },
   "file_extension": ".py",
   "mimetype": "text/x-python",
   "name": "python",
   "nbconvert_exporter": "python",
   "pygments_lexer": "ipython3",
   "version": "3.12.6"
  }
 },
 "nbformat": 4,
 "nbformat_minor": 5
}
